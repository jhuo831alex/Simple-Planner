{
 "cells": [
  {
   "cell_type": "code",
   "execution_count": 1,
   "metadata": {},
   "outputs": [],
   "source": [
    "from Event_class import Event\n",
    "from Reminder_class import Reminder"
   ]
  },
  {
   "cell_type": "code",
   "execution_count": 2,
   "metadata": {},
   "outputs": [],
   "source": [
    "new_reminder = Reminder()"
   ]
  },
  {
   "cell_type": "code",
   "execution_count": 7,
   "metadata": {},
   "outputs": [
    {
     "name": "stdout",
     "output_type": "stream",
     "text": [
      "What task would you like to add?github\n",
      "Would you like to be reminded on a day? (y/n)y\n",
      "What time would you like to be reminded? (ex: 05/01/2018 23:01)11/21/2018 01:11\n",
      "Would you like to set a priority? (y/n)y\n",
      "Which priority level would you like to assign to this task? (*/**/***)*\n",
      "Would you like to add notes? (y/n)y\n",
      "What notes would you like to add to this task?ksl\n"
     ]
    }
   ],
   "source": [
    "new_reminder.add_event()"
   ]
  },
  {
   "cell_type": "code",
   "execution_count": 8,
   "metadata": {},
   "outputs": [
    {
     "name": "stdout",
     "output_type": "stream",
     "text": [
      "\u001b[1mReminder\u001b[0m\n",
      "\n",
      "----------[1]----------\n",
      "\u001b[95m***\u001b[0m \u001b[1m\u001b[36mdo project\u001b[0m\n",
      "\u001b[91m2018-05-01 23:01:00\u001b[0m\n",
      "\u001b[4mdksflja\u001b[0m\n",
      "\n",
      "----------[2]----------\n",
      "\u001b[95m**\u001b[0m \u001b[1m\u001b[36mgit\u001b[0m\n",
      "\u001b[91m2018-11-20 11:00:00\u001b[0m\n",
      "\n",
      "----------[3]----------\n",
      "\u001b[95m*\u001b[0m \u001b[1m\u001b[36mgithub\u001b[0m\n",
      "2018-11-21 01:11:00\n",
      "\u001b[4mksl\u001b[0m\n",
      "\n",
      "\n"
     ]
    }
   ],
   "source": [
    "print(new_reminder)"
   ]
  },
  {
   "cell_type": "code",
   "execution_count": 13,
   "metadata": {},
   "outputs": [
    {
     "name": "stdout",
     "output_type": "stream",
     "text": [
      "\u001b[1mReminder\u001b[0m\n",
      "\n",
      "----------[1]----------\n",
      "\u001b[95m**\u001b[0m \u001b[1m\u001b[36mgit\u001b[0m\n",
      "\u001b[91m2018-11-20 11:00:00\u001b[0m\n",
      "\n",
      "\n",
      "Which task did you complete? (Input task number)1\n"
     ]
    }
   ],
   "source": [
    "new_reminder.check_event()"
   ]
  },
  {
   "cell_type": "code",
   "execution_count": 14,
   "metadata": {},
   "outputs": [
    {
     "name": "stdout",
     "output_type": "stream",
     "text": [
      "\u001b[1mReminder\u001b[0m\n",
      "\n",
      "\n"
     ]
    }
   ],
   "source": [
    "print(new_reminder)"
   ]
  },
  {
   "cell_type": "code",
   "execution_count": null,
   "metadata": {},
   "outputs": [],
   "source": []
  }
 ],
 "metadata": {
  "kernelspec": {
   "display_name": "Python 3",
   "language": "python",
   "name": "python3"
  },
  "language_info": {
   "codemirror_mode": {
    "name": "ipython",
    "version": 3
   },
   "file_extension": ".py",
   "mimetype": "text/x-python",
   "name": "python",
   "nbconvert_exporter": "python",
   "pygments_lexer": "ipython3",
   "version": "3.6.5"
  }
 },
 "nbformat": 4,
 "nbformat_minor": 2
}
