{
 "cells": [
  {
   "cell_type": "code",
   "execution_count": 1,
   "metadata": {},
   "outputs": [],
   "source": [
    "import Main"
   ]
  },
  {
   "cell_type": "markdown",
   "metadata": {},
   "source": [
    "### Test Add_Event function with only task name, no time, no priority, no notes"
   ]
  },
  {
   "cell_type": "code",
   "execution_count": 2,
   "metadata": {},
   "outputs": [
    {
     "name": "stdout",
     "output_type": "stream",
     "text": [
      "What would you like to do? (Add Event/Modify Event/Check Event/Quit)add event\n",
      "What task would you like to add? Do Project\n",
      "Would you like to be reminded on a day? (y/n)n\n",
      "Would you like to set a priority? (y/n)n\n",
      "Would you like to add notes? (y/n)n\n",
      "\u001b[1mReminder\u001b[0m\n",
      "\n",
      "----------[1]----------\n",
      "\u001b[1m\u001b[36mDo Project\u001b[0m\n",
      "\n",
      "\n",
      "What would you like to do? (Add Event/Modify Event/Check Event/Quit)quit\n",
      "Byebye.\n"
     ]
    }
   ],
   "source": [
    "Main.main()"
   ]
  },
  {
   "cell_type": "markdown",
   "metadata": {},
   "source": [
    "### Test Add_Event function with a task name, correct time, no priority, no notes"
   ]
  },
  {
   "cell_type": "code",
   "execution_count": 3,
   "metadata": {},
   "outputs": [
    {
     "name": "stdout",
     "output_type": "stream",
     "text": [
      "What would you like to do? (Add Event/Modify Event/Check Event/Quit)add event\n",
      "What task would you like to add? Do Homework\n",
      "Would you like to be reminded on a day? (y/n)y\n",
      "What time would you like to be reminded? (ex: 05/01/2018 23:01)05/01/2018 23:01\n",
      "Would you like to set a priority? (y/n)n\n",
      "Would you like to add notes? (y/n)n\n",
      "\u001b[1mReminder\u001b[0m\n",
      "\n",
      "----------[1]----------\n",
      "\u001b[1m\u001b[36mDo Project\u001b[0m\n",
      "\n",
      "----------[2]----------\n",
      "\u001b[1m\u001b[36mDo Homework\u001b[0m\n",
      "\u001b[91m2018-05-01 23:01:00\u001b[0m\n",
      "\n",
      "\n",
      "What would you like to do? (Add Event/Modify Event/Check Event/Quit)quit\n",
      "Byebye.\n"
     ]
    }
   ],
   "source": [
    "Main.main()"
   ]
  },
  {
   "cell_type": "markdown",
   "metadata": {},
   "source": [
    "### Test Add_Event function with a task name, incorrect time, no priority, no notes"
   ]
  },
  {
   "cell_type": "code",
   "execution_count": 4,
   "metadata": {},
   "outputs": [
    {
     "name": "stdout",
     "output_type": "stream",
     "text": [
      "What would you like to do? (Add Event/Modify Event/Check Event/Quit)add event\n",
      "What task would you like to add? Do Homework2\n",
      "Would you like to be reminded on a day? (y/n)y\n",
      "What time would you like to be reminded? (ex: 05/01/2018 23:01)05-01-2018 1:00\n",
      "Invalid date format. Please refer to example.\n",
      "What time would you like to be reminded? (ex: 05/01/2018 23:01)05/01/2018 01:00\n",
      "Would you like to set a priority? (y/n)n\n",
      "Would you like to add notes? (y/n)n\n",
      "\u001b[1mReminder\u001b[0m\n",
      "\n",
      "----------[1]----------\n",
      "\u001b[1m\u001b[36mDo Project\u001b[0m\n",
      "\n",
      "----------[2]----------\n",
      "\u001b[1m\u001b[36mDo Homework\u001b[0m\n",
      "\u001b[91m2018-05-01 23:01:00\u001b[0m\n",
      "\n",
      "----------[3]----------\n",
      "\u001b[1m\u001b[36mDo Homework2\u001b[0m\n",
      "\u001b[91m2018-05-01 01:00:00\u001b[0m\n",
      "\n",
      "\n",
      "What would you like to do? (Add Event/Modify Event/Check Event/Quit)quit\n",
      "Byebye.\n"
     ]
    }
   ],
   "source": [
    "Main.main()"
   ]
  },
  {
   "cell_type": "markdown",
   "metadata": {},
   "source": [
    "### Test Add_Event function with a task name, correct time, correct priority level, no notes"
   ]
  },
  {
   "cell_type": "code",
   "execution_count": 5,
   "metadata": {},
   "outputs": [
    {
     "name": "stdout",
     "output_type": "stream",
     "text": [
      "What would you like to do? (Add Event/Modify Event/Check Event/Quit)add event\n",
      "What task would you like to add? Do Laundry\n",
      "Would you like to be reminded on a day? (y/n)y\n",
      "What time would you like to be reminded? (ex: 05/01/2018 23:01)11/11/2011 11:11\n",
      "Would you like to set a priority? (y/n)y\n",
      "Which priority level would you like to assign to this task? (*/**/***)***\n",
      "Would you like to add notes? (y/n)n\n",
      "\u001b[1mReminder\u001b[0m\n",
      "\n",
      "----------[1]----------\n",
      "\u001b[1m\u001b[36mDo Project\u001b[0m\n",
      "\n",
      "----------[2]----------\n",
      "\u001b[1m\u001b[36mDo Homework\u001b[0m\n",
      "\u001b[91m2018-05-01 23:01:00\u001b[0m\n",
      "\n",
      "----------[3]----------\n",
      "\u001b[1m\u001b[36mDo Homework2\u001b[0m\n",
      "\u001b[91m2018-05-01 01:00:00\u001b[0m\n",
      "\n",
      "----------[4]----------\n",
      "\u001b[95m***\u001b[0m \u001b[1m\u001b[36mDo Laundry\u001b[0m\n",
      "\u001b[91m2011-11-11 11:11:00\u001b[0m\n",
      "\n",
      "\n",
      "What would you like to do? (Add Event/Modify Event/Check Event/Quit)quit\n",
      "Byebye.\n"
     ]
    }
   ],
   "source": [
    "Main.main()"
   ]
  },
  {
   "cell_type": "markdown",
   "metadata": {},
   "source": [
    "### Test Add_Event function with a task name, correct time, incorrect priority level, no notes"
   ]
  },
  {
   "cell_type": "code",
   "execution_count": 6,
   "metadata": {},
   "outputs": [
    {
     "name": "stdout",
     "output_type": "stream",
     "text": [
      "What would you like to do? (Add Event/Modify Event/Check Event/Quit)add event\n",
      "What task would you like to add? Review for tools quiz\n",
      "Would you like to be reminded on a day? (y/n)y\n",
      "What time would you like to be reminded? (ex: 05/01/2018 23:01)12/01/2018 11:30\n",
      "Would you like to set a priority? (y/n)y\n",
      "Which priority level would you like to assign to this task? (*/**/***)lskdjf\n",
      "Invalid priority level. Please refer to example.\n",
      "Which priority level would you like to assign to this task? (*/**/***)*\n",
      "Would you like to add notes? (y/n)Look at lecture\n",
      "\u001b[1mReminder\u001b[0m\n",
      "\n",
      "----------[1]----------\n",
      "\u001b[1m\u001b[36mDo Project\u001b[0m\n",
      "\n",
      "----------[2]----------\n",
      "\u001b[1m\u001b[36mDo Homework\u001b[0m\n",
      "\u001b[91m2018-05-01 23:01:00\u001b[0m\n",
      "\n",
      "----------[3]----------\n",
      "\u001b[1m\u001b[36mDo Homework2\u001b[0m\n",
      "\u001b[91m2018-05-01 01:00:00\u001b[0m\n",
      "\n",
      "----------[4]----------\n",
      "\u001b[95m***\u001b[0m \u001b[1m\u001b[36mDo Laundry\u001b[0m\n",
      "\u001b[91m2011-11-11 11:11:00\u001b[0m\n",
      "\n",
      "----------[5]----------\n",
      "\u001b[95m*\u001b[0m \u001b[1m\u001b[36mReview for tools quiz\u001b[0m\n",
      "2018-12-01 11:30:00\n",
      "\n",
      "\n",
      "What would you like to do? (Add Event/Modify Event/Check Event/Quit)quit\n",
      "Byebye.\n"
     ]
    }
   ],
   "source": [
    "Main.main()"
   ]
  },
  {
   "cell_type": "markdown",
   "metadata": {},
   "source": [
    "### Test Add_Event function with a task name, correct time, correct priority level, notes "
   ]
  },
  {
   "cell_type": "code",
   "execution_count": 8,
   "metadata": {},
   "outputs": [
    {
     "name": "stdout",
     "output_type": "stream",
     "text": [
      "What would you like to do? (Add Event/Modify Event/Check Event/Quit)add event\n",
      "What task would you like to add? Review for tools quiz\n",
      "Would you like to be reminded on a day? (y/n)y\n",
      "What time would you like to be reminded? (ex: 05/01/2018 23:01)12/12/2018 11:30\n",
      "Would you like to set a priority? (y/n)y\n",
      "Which priority level would you like to assign to this task? (*/**/***)***\n",
      "Would you like to add notes? (y/n)y\n",
      "What notes would you like to add to this task?Look at lecture\n",
      "\u001b[1mReminder\u001b[0m\n",
      "\n",
      "----------[1]----------\n",
      "\u001b[1m\u001b[36mDo Project\u001b[0m\n",
      "\n",
      "----------[2]----------\n",
      "\u001b[1m\u001b[36mDo Homework\u001b[0m\n",
      "\u001b[91m2018-05-01 23:01:00\u001b[0m\n",
      "\n",
      "----------[3]----------\n",
      "\u001b[1m\u001b[36mDo Homework2\u001b[0m\n",
      "\u001b[91m2018-05-01 01:00:00\u001b[0m\n",
      "\n",
      "----------[4]----------\n",
      "\u001b[95m***\u001b[0m \u001b[1m\u001b[36mDo Laundry\u001b[0m\n",
      "\u001b[91m2011-11-11 11:11:00\u001b[0m\n",
      "\n",
      "----------[5]----------\n",
      "\u001b[95m*\u001b[0m \u001b[1m\u001b[36mReview for tools quiz\u001b[0m\n",
      "2018-12-01 11:30:00\n",
      "\n",
      "----------[6]----------\n",
      "\u001b[95m***\u001b[0m \u001b[1m\u001b[36mReview for tools quiz\u001b[0m\n",
      "2018-12-12 11:30:00\n",
      "\u001b[4mLook at lecture\u001b[0m\n",
      "\n",
      "\n",
      "What would you like to do? (Add Event/Modify Event/Check Event/Quit)quit\n",
      "Byebye.\n"
     ]
    }
   ],
   "source": [
    "Main.main()"
   ]
  },
  {
   "cell_type": "markdown",
   "metadata": {},
   "source": [
    "### Test Modify function with a different time(correct format), priority and notes unchanged"
   ]
  },
  {
   "cell_type": "code",
   "execution_count": null,
   "metadata": {},
   "outputs": [
    {
     "name": "stdout",
     "output_type": "stream",
     "text": [
      "What would you like to do? (Add Event/Modify Event/Check Event/Quit)modify\n",
      "\u001b[1mReminder\u001b[0m\n",
      "\n",
      "----------[1]----------\n",
      "\u001b[1m\u001b[36mDo Project\u001b[0m\n",
      "\n",
      "----------[2]----------\n",
      "\u001b[1m\u001b[36mDo Homework\u001b[0m\n",
      "\u001b[91m2018-05-01 23:01:00\u001b[0m\n",
      "\n",
      "----------[3]----------\n",
      "\u001b[1m\u001b[36mDo Homework2\u001b[0m\n",
      "\u001b[91m2018-05-01 01:00:00\u001b[0m\n",
      "\n",
      "----------[4]----------\n",
      "\u001b[95m***\u001b[0m \u001b[1m\u001b[36mDo Laundry\u001b[0m\n",
      "\u001b[91m2011-11-11 11:11:00\u001b[0m\n",
      "\n",
      "----------[5]----------\n",
      "\u001b[95m*\u001b[0m \u001b[1m\u001b[36mReview for tools quiz\u001b[0m\n",
      "2018-12-01 11:30:00\n",
      "\n",
      "----------[6]----------\n",
      "\u001b[95m***\u001b[0m \u001b[1m\u001b[36mReview for tools quiz\u001b[0m\n",
      "2018-12-12 11:30:00\n",
      "\u001b[4mLook at lecture\u001b[0m\n",
      "\n",
      "\n",
      "Which event would you like to modify? (Event number)4\n"
     ]
    }
   ],
   "source": [
    "Main.main()"
   ]
  },
  {
   "cell_type": "code",
   "execution_count": null,
   "metadata": {},
   "outputs": [],
   "source": []
  }
 ],
 "metadata": {
  "kernelspec": {
   "display_name": "Python 3",
   "language": "python",
   "name": "python3"
  },
  "language_info": {
   "codemirror_mode": {
    "name": "ipython",
    "version": 3
   },
   "file_extension": ".py",
   "mimetype": "text/x-python",
   "name": "python",
   "nbconvert_exporter": "python",
   "pygments_lexer": "ipython3",
   "version": "3.6.5"
  }
 },
 "nbformat": 4,
 "nbformat_minor": 2
}
