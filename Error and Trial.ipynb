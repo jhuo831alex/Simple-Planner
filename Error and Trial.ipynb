{
 "cells": [
  {
   "cell_type": "code",
   "execution_count": 1,
   "metadata": {},
   "outputs": [],
   "source": [
    "from Event_class import Event\n",
    "from Reminder_class import Reminder"
   ]
  },
  {
   "cell_type": "code",
   "execution_count": 2,
   "metadata": {},
   "outputs": [],
   "source": [
    "new_reminder = Reminder()"
   ]
  },
  {
   "cell_type": "code",
   "execution_count": 3,
   "metadata": {
    "scrolled": true
   },
   "outputs": [
    {
     "name": "stdout",
     "output_type": "stream",
     "text": [
      "What reminder would you like to add?Do Project\n",
<<<<<<< HEAD
      "Would you like to be reminded on a day? (y/n)yes\n",
      "What time would you like to be reminded? (ex: 05/01/2018 23:01)y\n",
      "Invalid date format. Please refer to example.\n",
      "What time would you like to be reminded? (ex: 05/01/2018 23:01)05/01/2018 23:01\n",
=======
      "Would you like to be reminded on a day? (y/n)y\n",
>>>>>>> 6ebaeae6e21bdfa09cb51406900938e095d19e67
      "Would you like to set a priority? (y/n)y\n",
      "Which priority level would you like to assign to this event? (*/**/***)***\n",
      "Would you like to add notes? (y/n)y\n",
<<<<<<< HEAD
      "What notes would you like to add to this event?kasjld\n"
=======
      "What time would you like to be reminded? (ex: 05/01/2018 23:01)05/01/2018 23:01\n",
      "Which priority level would you like to assign to this event? (*/**/***)***\n",
      "What notes would you like to add to this event?Beat David\n"
>>>>>>> 6ebaeae6e21bdfa09cb51406900938e095d19e67
     ]
    }
   ],
   "source": [
    "new_reminder.add_event()"
   ]
  },
  {
   "cell_type": "code",
   "execution_count": 4,
   "metadata": {},
   "outputs": [
    {
     "data": {
      "text/plain": [
<<<<<<< HEAD
       "[\u001b[96m***\u001b[0m \u001b[1m\u001b[95mDo Project\u001b[0m\n",
       " \u001b[91m2018-05-01 23:01:00\u001b[0m\n",
       " \u001b[4mkasjld\u001b[0m]"
=======
       "[\u001b[95m***\u001b[0m \u001b[1m\u001b[96mDo Project\u001b[0m\n",
       " \u001b[91m2018-05-01 23:01:00\u001b[0m\n",
       " \u001b[4mBeat David\u001b[0m]"
>>>>>>> 6ebaeae6e21bdfa09cb51406900938e095d19e67
      ]
     },
     "execution_count": 4,
     "metadata": {},
     "output_type": "execute_result"
    }
   ],
   "source": [
    "new_reminder.event_list"
   ]
  },
  {
   "cell_type": "code",
   "execution_count": null,
   "metadata": {},
   "outputs": [],
   "source": [
    "new_reminder.prompt_user('hi')"
   ]
  },
  {
   "cell_type": "code",
   "execution_count": null,
   "metadata": {},
   "outputs": [],
   "source": [
    "a = 'hi'\n",
    "input(a)"
   ]
  },
  {
   "cell_type": "code",
   "execution_count": null,
   "metadata": {},
   "outputs": [],
   "source": [
    "a = prompt_user('hi')"
   ]
  },
  {
   "cell_type": "code",
   "execution_count": null,
   "metadata": {},
   "outputs": [],
   "source": [
    "def prompt_user(prompt_msg):\n",
    "    input_ = input(prompt_msg)\n",
    "    if input_ in ['y','yes','Y','Yes']:\n",
    "        result = True\n",
    "    else:\n",
    "        result = False\n",
    "    return result"
   ]
  },
  {
   "cell_type": "code",
   "execution_count": null,
   "metadata": {},
   "outputs": [],
   "source": [
    "prompt_user('hi')"
   ]
  },
  {
   "cell_type": "code",
   "execution_count": null,
   "metadata": {},
   "outputs": [],
   "source": [
    "from datetime import datetime"
   ]
  },
  {
   "cell_type": "code",
   "execution_count": null,
   "metadata": {},
   "outputs": [],
   "source": [
    "datetime.strptime(\"05/01/2018 23:01\", '%m/%d/%Y %H:%M')"
   ]
  },
  {
   "cell_type": "code",
   "execution_count": 5,
   "metadata": {},
   "outputs": [
    {
     "data": {
      "text/plain": [
       "False"
      ]
     },
     "execution_count": 5,
     "metadata": {},
     "output_type": "execute_result"
    }
   ],
   "source": [
    "['a','b'] in ['a','b','c']"
   ]
  },
  {
   "cell_type": "code",
   "execution_count": 8,
   "metadata": {},
   "outputs": [
    {
     "name": "stdout",
     "output_type": "stream",
     "text": [
      "a\n"
     ]
    }
   ],
   "source": [
    "print('a',flush=True)"
   ]
  },
  {
   "cell_type": "code",
   "execution_count": 10,
   "metadata": {},
   "outputs": [
    {
     "name": "stdout",
     "output_type": "stream",
     "text": [
      "\u001b[1m\u001b[91mHello\n"
     ]
    }
   ],
   "source": [
    "print ('\\033[1m' +'\\033[91m' + 'Hello')"
   ]
  },
  {
   "cell_type": "code",
   "execution_count": null,
   "metadata": {},
   "outputs": [],
   "source": []
  }
 ],
 "metadata": {
  "kernelspec": {
   "display_name": "Python 3",
   "language": "python",
   "name": "python3"
  },
  "language_info": {
   "codemirror_mode": {
    "name": "ipython",
    "version": 3
   },
   "file_extension": ".py",
   "mimetype": "text/x-python",
   "name": "python",
   "nbconvert_exporter": "python",
   "pygments_lexer": "ipython3",
   "version": "3.6.5"
  }
 },
 "nbformat": 4,
 "nbformat_minor": 2
}
