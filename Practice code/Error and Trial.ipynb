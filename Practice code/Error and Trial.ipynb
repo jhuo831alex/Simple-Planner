{
 "cells": [
  {
   "cell_type": "code",
   "execution_count": 1,
   "metadata": {},
   "outputs": [],
   "source": [
    "from Event_class import Event\n",
    "from Reminder_class import Reminder"
   ]
  },
  {
   "cell_type": "code",
   "execution_count": 2,
   "metadata": {},
   "outputs": [],
   "source": [
    "new_reminder = Reminder()"
   ]
  },
  {
   "cell_type": "code",
   "execution_count": 4,
   "metadata": {
    "scrolled": true
   },
   "outputs": [
    {
     "name": "stdout",
     "output_type": "stream",
     "text": [
<<<<<<< HEAD
      "What reminder would you like to add?github\n",
      "Would you like to be reminded on a day? (y/n)y\n",
      "What time would you like to be reminded? (ex: 05/01/2018 23:01)05/01/2019 23:01\n",
      "Would you like to set a priority? (y/n)n\n",
      "Would you like to add notes? (y/n)n\n"
=======
<<<<<<< HEAD
      "What reminder would you like to add?Do Project\n",
<<<<<<< HEAD
      "Would you like to be reminded on a day? (y/n)yes\n",
      "What time would you like to be reminded? (ex: 05/01/2018 23:01)y\n",
      "Invalid date format. Please refer to example.\n",
      "What time would you like to be reminded? (ex: 05/01/2018 23:01)05/01/2018 23:01\n",
=======
      "Would you like to be reminded on a day? (y/n)y\n",
>>>>>>> 6ebaeae6e21bdfa09cb51406900938e095d19e67
      "Would you like to set a priority? (y/n)y\n",
      "Which priority level would you like to assign to this event? (*/**/***)***\n",
      "Would you like to add notes? (y/n)y\n",
<<<<<<< HEAD
      "What notes would you like to add to this event?kasjld\n"
=======
      "What time would you like to be reminded? (ex: 05/01/2018 23:01)05/01/2018 23:01\n",
      "Which priority level would you like to assign to this event? (*/**/***)***\n",
      "What notes would you like to add to this event?Beat David\n"
>>>>>>> 6ebaeae6e21bdfa09cb51406900938e095d19e67
=======
      "What reminder would you like to add?project\n",
      "Would you like to be reminded on a day? (y/n)y\n",
      "What time would you like to be reminded? (ex: 05/01/2018 23:01)----------\n",
      "Invalid date format. Please refer to example.\n",
      "What time would you like to be reminded? (ex: 05/01/2018 23:01)05/01/2018 23:01\n",
      "Would you like to set a priority? (y/n)y\n",
      "Which priority level would you like to assign to this event? (*/**/***)***\n",
      "Would you like to add notes? (y/n)y\n",
      "What notes would you like to add to this event?prince\n"
>>>>>>> 4a23d53c62e562bb34331a059335844116c0b8c1
>>>>>>> 2bf1bedd016f34709cf1a7e8bb5aa5221ed18346
     ]
    }
   ],
   "source": [
    "new_reminder.add_event()"
   ]
  },
  {
   "cell_type": "code",
   "execution_count": 5,
   "metadata": {},
   "outputs": [
    {
<<<<<<< HEAD
     "data": {
      "text/plain": [
<<<<<<< HEAD
       "[\u001b[96m***\u001b[0m \u001b[1m\u001b[95mDo Project\u001b[0m\n",
       " \u001b[91m2018-05-01 23:01:00\u001b[0m\n",
       " \u001b[4mkasjld\u001b[0m]"
=======
       "[\u001b[95m***\u001b[0m \u001b[1m\u001b[96mDo Project\u001b[0m\n",
       " \u001b[91m2018-05-01 23:01:00\u001b[0m\n",
       " \u001b[4mBeat David\u001b[0m]"
>>>>>>> 6ebaeae6e21bdfa09cb51406900938e095d19e67
      ]
     },
     "execution_count": 4,
     "metadata": {},
     "output_type": "execute_result"
=======
     "name": "stdout",
     "output_type": "stream",
     "text": [
      "\u001b[1mReminder\u001b[0m\n",
      "\n",
      "----------[1]----------\n",
      "\u001b[95m***\u001b[0m \u001b[1m\u001b[36mproject\u001b[0m\n",
      "\u001b[91m2018-05-01 23:01:00\u001b[0m\n",
      "\u001b[4mprince\u001b[0m\n",
      "\n",
      "----------[2]----------\n",
      "\u001b[1m\u001b[36mgithub\u001b[0m\n",
      "2019-05-01 23:01:00\n",
      "\n",
      "\n"
     ]
>>>>>>> 4a23d53c62e562bb34331a059335844116c0b8c1
    }
   ],
   "source": [
    "print(new_reminder)"
   ]
  },
  {
   "cell_type": "code",
   "execution_count": null,
   "metadata": {},
   "outputs": [],
   "source": [
    "new_reminder.prompt_user('hi')"
   ]
  },
  {
   "cell_type": "code",
   "execution_count": null,
   "metadata": {},
   "outputs": [],
   "source": [
    "a = 'hi'\n",
    "input(a)"
   ]
  },
  {
   "cell_type": "code",
   "execution_count": null,
   "metadata": {},
   "outputs": [],
   "source": [
    "a = prompt_user('hi')"
   ]
  },
  {
   "cell_type": "code",
   "execution_count": null,
   "metadata": {},
   "outputs": [],
   "source": [
    "def prompt_user(prompt_msg):\n",
    "    input_ = input(prompt_msg)\n",
    "    if input_ in ['y','yes','Y','Yes']:\n",
    "        result = True\n",
    "    else:\n",
    "        result = False\n",
    "    return result"
   ]
  },
  {
   "cell_type": "code",
   "execution_count": null,
   "metadata": {},
   "outputs": [],
   "source": [
    "prompt_user('hi')"
   ]
  },
  {
   "cell_type": "code",
   "execution_count": null,
   "metadata": {},
   "outputs": [],
   "source": [
    "from datetime import datetime"
   ]
  },
  {
   "cell_type": "code",
   "execution_count": null,
   "metadata": {},
   "outputs": [],
   "source": [
    "datetime.strptime(\"05/01/2018 23:01\", '%m/%d/%Y %H:%M')"
   ]
  },
  {
   "cell_type": "code",
   "execution_count": null,
   "metadata": {},
   "outputs": [],
   "source": [
    "['a','b'] in ['a','b','c']"
   ]
  },
  {
   "cell_type": "code",
   "execution_count": null,
   "metadata": {},
   "outputs": [],
   "source": [
    "print('a',flush=True)"
   ]
  },
  {
   "cell_type": "code",
   "execution_count": null,
   "metadata": {},
   "outputs": [],
   "source": [
    "print ('\\033[1m' +'\\033[91m' + 'Hello')"
   ]
  },
  {
   "cell_type": "code",
   "execution_count": null,
   "metadata": {},
   "outputs": [],
   "source": []
  }
 ],
 "metadata": {
  "kernelspec": {
   "display_name": "Python 3",
   "language": "python",
   "name": "python3"
  },
  "language_info": {
   "codemirror_mode": {
    "name": "ipython",
    "version": 3
   },
   "file_extension": ".py",
   "mimetype": "text/x-python",
   "name": "python",
   "nbconvert_exporter": "python",
   "pygments_lexer": "ipython3",
   "version": "3.6.4"
  }
 },
 "nbformat": 4,
 "nbformat_minor": 2
}
