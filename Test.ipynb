{
 "cells": [
  {
   "cell_type": "code",
   "execution_count": 1,
   "metadata": {},
   "outputs": [],
   "source": [
    "from Event_class import Event\n",
    "from Reminder_class import Reminder"
   ]
  },
  {
   "cell_type": "code",
   "execution_count": 2,
   "metadata": {},
   "outputs": [],
   "source": [
    "new_reminder = Reminder()"
   ]
  },
  {
   "cell_type": "code",
   "execution_count": 7,
   "metadata": {},
   "outputs": [
    {
     "name": "stdout",
     "output_type": "stream",
     "text": [
      "What task would you like to add?github\n",
      "Would you like to be reminded on a day? (y/n)y\n",
      "What time would you like to be reminded? (ex: 05/01/2018 23:01)11/21/2018 01:11\n",
      "Would you like to set a priority? (y/n)y\n",
      "Which priority level would you like to assign to this task? (*/**/***)*\n",
      "Would you like to add notes? (y/n)y\n",
      "What notes would you like to add to this task?ksl\n"
     ]
    }
   ],
   "source": [
    "new_reminder.add_event()"
   ]
  },
  {
   "cell_type": "code",
   "execution_count": 8,
   "metadata": {},
   "outputs": [
    {
     "name": "stdout",
     "output_type": "stream",
     "text": [
      "\u001b[1mReminder\u001b[0m\n",
      "\n",
      "----------[1]----------\n",
      "\u001b[95m***\u001b[0m \u001b[1m\u001b[36mdo project\u001b[0m\n",
      "\u001b[91m2018-05-01 23:01:00\u001b[0m\n",
      "\u001b[4mdksflja\u001b[0m\n",
      "\n",
      "----------[2]----------\n",
      "\u001b[95m**\u001b[0m \u001b[1m\u001b[36mgit\u001b[0m\n",
      "\u001b[91m2018-11-20 11:00:00\u001b[0m\n",
      "\n",
      "----------[3]----------\n",
      "\u001b[95m*\u001b[0m \u001b[1m\u001b[36mgithub\u001b[0m\n",
      "2018-11-21 01:11:00\n",
      "\u001b[4mksl\u001b[0m\n",
      "\n",
      "\n"
     ]
    }
   ],
   "source": [
    "print(new_reminder)"
   ]
  },
  {
   "cell_type": "code",
   "execution_count": 13,
   "metadata": {},
   "outputs": [
    {
     "name": "stdout",
     "output_type": "stream",
     "text": [
      "\u001b[1mReminder\u001b[0m\n",
      "\n",
      "----------[1]----------\n",
      "\u001b[95m**\u001b[0m \u001b[1m\u001b[36mgit\u001b[0m\n",
      "\u001b[91m2018-11-20 11:00:00\u001b[0m\n",
      "\n",
      "\n",
      "Which task did you complete? (Input task number)1\n"
     ]
    }
   ],
   "source": [
    "new_reminder.check_event()"
   ]
  },
  {
   "cell_type": "code",
   "execution_count": 14,
   "metadata": {},
   "outputs": [
    {
     "name": "stdout",
     "output_type": "stream",
     "text": [
      "\u001b[1mReminder\u001b[0m\n",
      "\n",
      "\n"
     ]
    }
   ],
   "source": [
    "print(new_reminder)"
   ]
  },
  {
   "cell_type": "code",
   "execution_count": 17,
   "metadata": {},
   "outputs": [
    {
     "name": "stdout",
     "output_type": "stream",
     "text": [
      "What is your new remind time?(ex: 05/01/2018 23:01)05/01/2018 23:01\n"
     ]
    }
   ],
   "source": [
    "import datetime\n",
    "while True:\n",
    "    new_remind_string = input('What is your new remind time?(ex: 05/01/2018 23:01)')\n",
    "    if new_remind_string == None:\n",
    "        remind_time = None\n",
    "        break\n",
    "    try:\n",
    "        new_remind_time = datetime.datetime.strptime(new_remind_string, \"%m/%d/%Y %H:%M\") or new_remind_string is None\n",
    "        break\n",
    "    except:\n",
    "        print('Invalid date format. Please refer to example.')"
   ]
  },
  {
   "cell_type": "code",
   "execution_count": 7,
   "metadata": {},
   "outputs": [
    {
     "name": "stdout",
     "output_type": "stream",
     "text": [
      "What feature would you like to change first?df\n",
      "Please enter the features with correct format\n",
      "What feature would you like to change first?item\n"
     ]
    }
   ],
   "source": [
    "while True:\n",
    "    change = input ('What feature would you like to change first?')\n",
    "    if change == 'item':\n",
    "        modify_item=1\n",
    "        break\n",
    "    elif change == 'remind_time':\n",
    "        modify_remind_time=2\n",
    "        break\n",
    "    elif change == 'priority':\n",
    "        modify_priority=3\n",
    "        break\n",
    "    elif change == 'notes':\n",
    "        modify_notes=4\n",
    "        break\n",
    "    else:\n",
    "        print('Please enter the features with correct format')\n",
    "        "
   ]
  },
  {
   "cell_type": "code",
   "execution_count": null,
   "metadata": {},
   "outputs": [],
   "source": [
    "class Event:\n",
    "    \n",
    "    def __init__(self,item,remind_time = None,priority = None, notes = None):\n",
    "        self.item = item\n",
    "        self.remind_time = remind_time\n",
    "        self.priority = priority\n",
    "        self.notes = notes\n",
    "\n",
    "    def __repr__(self):\n",
    "        import datetime\n",
    "        print_attr = {'PURPLE': '\\033[95m',\n",
    "                      'CYAN': '\\033[96m',\n",
    "                      'DARKCYAN': '\\033[36m',\n",
    "                      'BLUE': '\\033[94m',\n",
    "                      'GREEN': '\\033[92m',\n",
    "                      'YELLOW': '\\033[93m',\n",
    "                      'RED': '\\033[91m',\n",
    "                      'BOLD': '\\033[1m',\n",
    "                      'UNDERLINE': '\\033[4m',\n",
    "                      'END': '\\033[0m'}\n",
    "\n",
    "        print_result = ''\n",
    "        if self.priority:\n",
    "            print_result += print_attr['PURPLE'] + self.priority + print_attr['END'] + ' '\n",
    "        print_result += print_attr['BOLD']+ print_attr['DARKCYAN'] + self.item + print_attr['END']\n",
    "\n",
    "        if self.remind_time:\n",
    "            if datetime.datetime.now() > self.remind_time:\n",
    "                print_result += '\\n' + print_attr['RED'] + str(self.remind_time) + print_attr['END'] \n",
    "            else:\n",
    "                print_result += '\\n' + str(self.remind_time)\n",
    "        \n",
    "        if self.notes:\n",
    "            print_result += '\\n' + print_attr['UNDERLINE'] + self.notes + print_attr['END']\n",
    " \n",
    "        return print_result\n",
    "\n",
    "    def __str__(self):\n",
    "        return self.__repr__()\n",
    "\n",
    "\n",
    "    def modify_item(self,new_item=None):\n",
    "        new_item = input('What is your new item?')\n",
    "        self.item = new_item\n",
    "\n",
    "    def modify_remind_time(self,new_remind_time=None):\n",
    "        import datetime\n",
    "        while True:\n",
    "            new_remind_string = input('What is your new remind time?(ex: 05/01/2018 23:01)')\n",
    "            if new_remind_string == '':\n",
    "                self.remind_time = None\n",
    "                break\n",
    "            try:\n",
    "                new_remind_time = datetime.datetime.strptime(new_remind_string, \"%m/%d/%Y %H:%M\") \n",
    "                self.remind_time = new_remind_time\n",
    "                break\n",
    "            except:\n",
    "                print('Invalid date format. Please refer to example.')\n",
    "                \n",
    "        \n",
    "\n",
    "    def modify_priority(self,new_priority=None):\n",
    "        question=input('Do you want to modify your priority?')\n",
    "        new_priority = input('What is your new priority?')\n",
    "        self.priority = new_priority\n",
    "\n",
    "    def modify_notes(self,new_notes=None):\n",
    "        question=input('Do you want to modify your notes?')\n",
    "        new_notes = input('What is your new notes?')\n",
    "        self.notes = new_notes    \n",
    "\n",
    "    def modify(self):\n",
    "        question=input('Do you want to modify your event?')\n",
    "        if question in ['y','yes','Y','Yes']:\n",
    "            while True:\n",
    "                change = input ('What feature would you like to change first?')\n",
    "                if change == 'item':\n",
    "                    modify_item()\n",
    "                    break\n",
    "                elif change == 'remind_time':\n",
    "                    modify_remind_time()\n",
    "                    break\n",
    "                elif change == 'priority':\n",
    "                    modify_priority()\n",
    "                    break\n",
    "                elif change == 'notes':\n",
    "                    modify_notes()\n",
    "                    break\n",
    "                else:\n",
    "                    print('Please enter the features with correct format')\n",
    "                    \n",
    "\n"
   ]
  }
 ],
 "metadata": {
  "kernelspec": {
   "display_name": "Python 3",
   "language": "python",
   "name": "python3"
  },
  "language_info": {
   "codemirror_mode": {
    "name": "ipython",
    "version": 3
   },
   "file_extension": ".py",
   "mimetype": "text/x-python",
   "name": "python",
   "nbconvert_exporter": "python",
   "pygments_lexer": "ipython3",
   "version": "3.6.4"
  }
 },
 "nbformat": 4,
 "nbformat_minor": 2
}
